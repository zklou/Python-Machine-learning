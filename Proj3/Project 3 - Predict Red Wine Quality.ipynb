{
 "cells": [
  {
   "cell_type": "markdown",
   "id": "5e402230",
   "metadata": {},
   "source": [
    "## Project - Applying Data Science Methodology on Red Wine Quality Dataset\n",
    "\n",
    "<img src=\"https://media.giphy.com/media/jRuv9xc10lVyE/giphy.gif\">\n",
    "\n",
    "You can read more about the Data Science Methodology from this [IBM whitepaper](https://tdwi.org/~/media/64511A895D86457E964174EDC5C4C7B1.PDF) by John Rollins\n",
    "\n",
    "[Link](https://archive.ics.uci.edu/ml/datasets/wine+quality) for the dataset for context\n",
    "\n",
    "<img src=\"https://media-exp1.licdn.com/dms/image/C4D12AQGOPVf5iqhhwQ/article-inline_image-shrink_1000_1488/0/1597756152693?e=1652918400&v=beta&t=iKZ2jX3khsx11lD9JyZWDz-j-Gt2hZsKPXz5rZ0iE1M\">"
   ]
  },
  {
   "cell_type": "markdown",
   "id": "96fa59d2",
   "metadata": {
    "button": false,
    "new_sheet": false,
    "run_control": {
     "read_only": false
    }
   },
   "source": [
    "### Business Understanding\n",
    "\n",
    "The red wine industry shows a recent exponential growth as social drinking is on the rise. Nowadays, industry players are using product quality certifications to promote their products. This is a time-consuming process and requires the assessment given by human experts, which makes this process very expensive. Also, the price of red wine depends on a rather abstract concept of wine appreciation by wine tasters, opinion among whom may have a high degree of variability. Another vital factor in red wine certification and quality assessment is physicochemical tests, which are laboratory-based and consider factors like acidity, pH level, sugar, and other chemical properties. The red wine market would be of interest if the human quality of tasting can be related to wine’s chemical properties so that certification and quality assessment and assurance processes are more controlled. \n",
    "\n",
    "The goal is to implement Regression Models and Classification Models on the Red Wine Quality Dataset to determine which features are the best quality red wine indicators and generate insights into each of these factors to our model’s red wine quality."
   ]
  },
  {
   "cell_type": "markdown",
   "id": "ead99b54",
   "metadata": {},
   "source": [
    "### Analytic Approach\n",
    "Based on the above business understanding one should decide the analytical approach to follow. The approaches can be of 4 types: Descriptive approach (current status and information provided), Diagnostic approach(a.k.a statistical analysis, what is happening and why it is happening), Predictive approach(it forecasts on the trends or future events probability) and Prescriptive approach( how the problem should be solved actually).\n",
    "\n",
    "**Q1. What is the analytical approach that you would take for this project? Why do you think its the right approach?**\n",
    "\n",
    "*TODO*"
   ]
  },
  {
   "cell_type": "markdown",
   "id": "12766c3d",
   "metadata": {},
   "source": [
    "### Data Requirements\n",
    "\n",
    "**Q2. What kind of data do we require for predicting the red wine quality and for determining the features that are the best quality red wine indicators?**\n",
    "\n",
    "*TODO*"
   ]
  },
  {
   "cell_type": "markdown",
   "id": "5d59c819",
   "metadata": {},
   "source": [
    "### Data Collection\n",
    "\n",
    "**Q3. From where do we get our data?**\n",
    "\n",
    "*TODO*"
   ]
  },
  {
   "cell_type": "markdown",
   "id": "c8419dbc",
   "metadata": {},
   "source": [
    "### Data Understanding\n",
    "\n",
    "Link for the dataset https://archive.ics.uci.edu/ml/datasets/wine+quality for context\n",
    "\n",
    "**Q4. From where are red wine samples obtained?**\n",
    "\n",
    "*TODO*\n",
    "\n",
    "**Q5. How can knowing the impact of each variable on the red wine quality help businesses(producers, distributors, etc) ?**\n",
    "\n",
    "*TODO*\n",
    "\n",
    "*TODO*\n",
    "<li>Check the shape of data, and the datatypes of the features</li>\n",
    "<li>Understand the data by carrying out any steps that you think are necessary</li>"
   ]
  },
  {
   "cell_type": "markdown",
   "id": "05546ed7",
   "metadata": {},
   "source": [
    "### Data Preparation\n",
    "\n",
    "#### Explore the dataset further\n",
    "*TODO*\n",
    "<li>Check for missing values and handle if any</li>\n",
    "<li>Check for outliers if any and handle them</li>\n",
    "<li>Implement Correlation heatmap</li>\n",
    "<li>Check the distribution of data using histograms</li>\n",
    "<li>Prepare the data for modeling by carrying out any steps that you think are necessary</li>"
   ]
  },
  {
   "cell_type": "markdown",
   "id": "e59d8dd8",
   "metadata": {},
   "source": [
    "### Modeling\n",
    "\n",
    "*TODO*\n",
    "<li>Implement Multivariable Linear Regression using any 2 Regression algorithms of your choice</li>\n",
    "<li>Implement a Neural Network using Tensorflow and Keras to classify wine quality</li>"
   ]
  },
  {
   "cell_type": "markdown",
   "id": "3b68a874",
   "metadata": {},
   "source": [
    "### Model Evaluation\n",
    "\n",
    "Evaluating the model accuracy is an essential part of the process in creating machine learning models to describe how well the model is performing in its predictions. Evaluation metrics change according to the problem type. Here, we'll briefly learn how to check the accuracy of the regression model.\n",
    "\n",
    "The linear model (regression) can be a typical example of this type of problem, and the main characteristic of the regression problem is that the targets of a dataset contain the real numbers only. The errors represent how much the model is making mistakes in its prediction. The basic concept of accuracy evaluation is to compare the original target with the predicted one according to certain metrics.\n",
    "\n",
    "\n",
    "**Regression model evaluation metrics**\n",
    "\n",
    "The MAE, RMSE, and R-Squared metrics are mainly used to evaluate the prediction error rates and model performance in regression analysis.\n",
    "\n",
    "**MAE (Mean absolute error)** represents the difference between the original and predicted values extracted by averaged the absolute difference over the data set.\n",
    "\n",
    "**RMSE (Root Mean Squared Error)** is the error rate by the square root of MSE.\n",
    "\n",
    "**R-squared (Coefficient of determination)** represents the coefficient of how well the values fit compared to the original values. The value from 0 to 1 interpreted as percentages. The higher the value is, the better the model is.\n",
    "\n",
    "The above metrics can be expressed as following:\n",
    "<img src = \"https://4.bp.blogspot.com/-wG7IbjTfE6k/XGUvqm7TCVI/AAAAAAAAAZU/vpH1kuKTIooKTcVlnm1EVRCXLVZM9cPNgCLcBGAs/s1600/formula-MAE-MSE-RMSE-RSquared.JPG\">\n",
    "\n",
    "Please find more information on how to implement them from this link: https://scikit-learn.org/stable/modules/classes.html#regression-metrics\n",
    "\n",
    "Find more about feature importances from here: https://machinelearningmastery.com/calculate-feature-importance-with-python/\n",
    "\n",
    "**Classification model evaluation metrics**\n",
    "\n",
    "<img src=\"https://www.researchgate.net/publication/336402347/figure/fig3/AS:812472659349505@1570719985505/Calculation-of-Precision-Recall-and-Accuracy-in-the-confusion-matrix.ppm\">"
   ]
  },
  {
   "cell_type": "markdown",
   "id": "0cc9ec55",
   "metadata": {},
   "source": [
    "*TODO*\n",
    "\n",
    "**For Regression models**\n",
    "<li>Use three metrics: R-squared, RMSE, and MAE, to evaluate model prediction performance</li>\n",
    "<li>Compare these 3 metrics for the two models and analyze the performance</li>\n",
    "<li>Calculate the feature importance scores for the top features that help predicting wine quality and visualize them</li>\n",
    "\n",
    "**For Classification model**\n",
    "<li> Plot training loss and validation loss </li>\n",
    "<li> Plot training accuracy and validation accuracy </li>\n",
    "<li> Evaluate the classsification model using Precision, Recall and Accuracy metrics </li>"
   ]
  },
  {
   "cell_type": "code",
   "execution_count": null,
   "id": "258877f3",
   "metadata": {},
   "outputs": [],
   "source": []
  },
  {
   "cell_type": "markdown",
   "id": "cc93c002",
   "metadata": {},
   "source": [
    "### Conclusion\n",
    "\n",
    "*TODO*"
   ]
  },
  {
   "cell_type": "code",
   "execution_count": null,
   "id": "09bfb453",
   "metadata": {},
   "outputs": [],
   "source": []
  }
 ],
 "metadata": {
  "kernelspec": {
   "display_name": "Python 3 (ipykernel)",
   "language": "python",
   "name": "python3"
  },
  "language_info": {
   "codemirror_mode": {
    "name": "ipython",
    "version": 3
   },
   "file_extension": ".py",
   "mimetype": "text/x-python",
   "name": "python",
   "nbconvert_exporter": "python",
   "pygments_lexer": "ipython3",
   "version": "3.9.7"
  }
 },
 "nbformat": 4,
 "nbformat_minor": 5
}
